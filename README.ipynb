{
 "cells": [
  {
   "cell_type": "markdown",
   "source": [
    "# ndfilters\n",
    "\n",
    "[![tests](https://github.com/sun-data/ndfilters/actions/workflows/tests.yml/badge.svg)](https://github.com/byrdie/ndfilters/actions/workflows/tests.yml)\n",
    "[![codecov](https://codecov.io/gh/sun-data/ndfilters/graph/badge.svg?token=BFTOVSyFtf)](https://codecov.io/gh/sun-data/ndfilters)\n",
    "[![Documentation Status](https://readthedocs.org/projects/ndfilters/badge/?version=latest)](https://ndfilters.readthedocs.io/en/latest/?badge=latest)\n",
    "[![PyPI version](https://badge.fury.io/py/ndfilters.svg)](https://badge.fury.io/py/ndfilters)\n",
    "\n",
    "Similar to the filters in `scipy.ndimage` but accelerated using `numba`.\n",
    "\n",
    "## Installation\n",
    "\n",
    "`ndfilters` is published on PyPI and can be installed using `pip`.\n",
    "\n",
    "```bash\n",
    "pip install ndfilters\n",
    "```\n",
    "\n",
    "The only filter currently implemented is a trimmed mean filter. This filter ignores a given portion of the dataset before calculating the mean at each pixel."
   ],
   "metadata": {
    "collapsed": false
   }
  },
  {
   "cell_type": "code",
   "execution_count": null,
   "outputs": [],
   "source": [
    "import matplotlib.pyplot as plt\n",
    "import scipy.datasets\n",
    "import ndfilters\n",
    "\n",
    "img = scipy.datasets.ascent()\n",
    "img_filtered = ndfilters.trimmed_mean_filter(img, kernel_shape=21)\n",
    "\n",
    "fig, axs = plt.subplots(ncols=2, sharex=True, sharey=True)\n",
    "axs[0].set_title(\"original image\");\n",
    "axs[0].imshow(img, cmap=\"gray\");\n",
    "axs[1].set_title(\"filtered image\");\n",
    "axs[1].imshow(img_filtered, cmap=\"gray\");"
   ],
   "metadata": {
    "collapsed": false
   }
  }
 ],
 "metadata": {
  "kernelspec": {
   "display_name": "Python 3",
   "language": "python",
   "name": "python3"
  },
  "language_info": {
   "codemirror_mode": {
    "name": "ipython",
    "version": 2
   },
   "file_extension": ".py",
   "mimetype": "text/x-python",
   "name": "python",
   "nbconvert_exporter": "python",
   "pygments_lexer": "ipython2",
   "version": "2.7.6"
  }
 },
 "nbformat": 4,
 "nbformat_minor": 0
}
